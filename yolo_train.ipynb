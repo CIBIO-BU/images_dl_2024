{
 "cells": [
  {
   "cell_type": "code",
   "execution_count": null,
   "id": "3ce62f45",
   "metadata": {},
   "outputs": [],
   "source": []
  },
  {
   "cell_type": "code",
   "execution_count": null,
   "id": "55746e5f",
   "metadata": {},
   "outputs": [],
   "source": [
    "yolo detect train \\\n",
    "    data=data.yaml \\\n",
    "    model=yolov8n.pt \\\n",
    "    epochs=100 \\\n",
    "    imgsz=640 \\\n",
    "    batch=8 \\\n",
    "    workers=2 \\\n",
    "    device=0 \\\n",
    "    cache=ram \\\n",
    "    exist_ok=True"
   ]
  },
  {
   "cell_type": "markdown",
   "id": "c13ea798",
   "metadata": {},
   "source": [
    "## box_loss: 0.945 "
   ]
  },
  {
   "cell_type": "code",
   "execution_count": null,
   "id": "07e937db",
   "metadata": {},
   "outputs": [],
   "source": [
    "nohup yolo detect train \\\n",
    "    data=data.yaml \\\n",
    "    model=yolov8s.pt \\\n",
    "    epochs=100 \\\n",
    "    imgsz=0 \\\n",
    "    batch=8 \\              \n",
    "    workers=2 \\            \n",
    "    device=0 \\\n",
    "    lr0=0.01 \\\n",
    "    patience=10 \\\n",
    "    cache=False \\          \n",
    "    augment=True \\\n",
    "    verbose=True > train_repaired.log 2>&1 &"
   ]
  },
  {
   "cell_type": "markdown",
   "id": "c3951b82",
   "metadata": {},
   "source": [
    "## box_loss: 0.8774\n"
   ]
  },
  {
   "cell_type": "code",
   "execution_count": null,
   "id": "9c56d3f3",
   "metadata": {},
   "outputs": [],
   "source": [
    "nohup yolo detect train \\\n",
    "    resume=True \\\n",
    "    model=runs/detect/train4/weights/last.pt \\\n",
    "    data=data.yaml \\\n",
    "    epochs=100 \\\n",
    "    imgsz=640 \\\n",
    "    batch=4 \\             \n",
    "    workers=1 \\            \n",
    "    device=0 \\\n",
    "    lr0=0.01 \\\n",
    "    patience=10 \\\n",
    "    cache=False \\          \n",
    "    augment=False \\        \n",
    "    val=False \\           \n",
    "    verbose=True > train_light.log 2>&1 &"
   ]
  },
  {
   "cell_type": "code",
   "execution_count": null,
   "id": "9b0f4912",
   "metadata": {},
   "outputs": [],
   "source": [
    "yolo train \\\n",
    "  model=yolov11l.pt \\\n",
    "  data=data.yaml \\  \n",
    "  epochs=100 \\\n",
    "  imgsz=480 \\\n",
    "  batch=16 \\\n",
    "  workers=2 \\            \n",
    "  device=0 \\\n",
    "  lr0=0.005 \\\n",
    "  patience=10 \\\n",
    "  cache=False \\          \n",
    "  augment=False \\        \n",
    "  val=False \\ \n",
    "  project=yolov11_subset_results"
   ]
  },
  {
   "cell_type": "code",
   "execution_count": null,
   "id": "2713ced2",
   "metadata": {},
   "outputs": [],
   "source": [
    "yolo val model=yolov11_subset_results/lr001/weights/best.pt data=data.yaml conf=0.1 iou=0.5 plots=True workers=0 cache=False"
   ]
  },
  {
   "cell_type": "code",
   "execution_count": null,
   "id": "ef27cf7c",
   "metadata": {},
   "outputs": [],
   "source": [
    "yolo train model=yolo11l data=data.yaml epochs=100 imgsz=640 batch=8 workers=0 device=0 lr0=0.005 augment=True optimizer=\"AdamW\" cls=0.5 pretrained=True  "
   ]
  }
 ],
 "metadata": {
  "language_info": {
   "name": "python"
  }
 },
 "nbformat": 4,
 "nbformat_minor": 5
}
